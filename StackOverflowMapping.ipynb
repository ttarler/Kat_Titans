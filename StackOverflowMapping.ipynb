{
 "cells": [
  {
   "cell_type": "code",
   "execution_count": 3,
   "metadata": {
    "collapsed": true
   },
   "outputs": [],
   "source": [
    "import findspark\n",
    "findspark.init('/usr/hdp/2.6.3.0-235/spark2')"
   ]
  },
  {
   "cell_type": "code",
   "execution_count": null,
   "metadata": {
    "collapsed": true
   },
   "outputs": [],
   "source": []
  },
  {
   "cell_type": "code",
   "execution_count": 4,
   "metadata": {
    "collapsed": true
   },
   "outputs": [],
   "source": [
    "import pyspark\n",
    "sc = pyspark.SparkContext(appName=\"SOMapping\")"
   ]
  },
  {
   "cell_type": "code",
   "execution_count": null,
   "metadata": {
    "collapsed": true
   },
   "outputs": [],
   "source": []
  },
  {
   "cell_type": "code",
   "execution_count": 64,
   "metadata": {
    "collapsed": true
   },
   "outputs": [],
   "source": [
    "#.csv looks better - there is a /t character in the .txt\n",
    "text_file2=sc.textFile(\"hdfs:///user/vagrant/BaseData.csv\") # testing which loads better - .txt or .csv  \n",
    "\n",
    "text_file=sc.textFile(\"hdfs:///user/vagrant/BaseData.txt\") #.txt\n"
   ]
  },
  {
   "cell_type": "code",
   "execution_count": 7,
   "metadata": {},
   "outputs": [
    {
     "data": {
      "text/plain": [
       "True"
      ]
     },
     "execution_count": 7,
     "metadata": {},
     "output_type": "execute_result"
    }
   ],
   "source": [
    "# check that file is an RDD\n",
    "from pyspark.rdd import RDD\n",
    "isinstance(text_file, RDD)"
   ]
  },
  {
   "cell_type": "code",
   "execution_count": 65,
   "metadata": {},
   "outputs": [
    {
     "data": {
      "text/plain": [
       "[['id,Tags'],\n",
       " ['\"19448711\",\"javascript,javascript-events,cross-browser,onkeyup,\"'],\n",
       " ['\"16042613\",\"java,\"'],\n",
       " ['\"17933344\",\"python,postgresql,fetchall,\"'],\n",
       " ['\"15837853\",\"exception,activemq,jmx,\"']]"
      ]
     },
     "execution_count": 65,
     "metadata": {},
     "output_type": "execute_result"
    }
   ],
   "source": [
    "# trying to decide which structure I want to use\n",
    "text_file_comma = text_file2.map(lambda x: x.replace('<', '').replace('>', ',').split()) #replaces <, >\n",
    "text_file_comma.take(5)  \n",
    "# output is a list of lists (of strings)  *** want this one?"
   ]
  },
  {
   "cell_type": "code",
   "execution_count": 66,
   "metadata": {},
   "outputs": [
    {
     "data": {
      "text/plain": [
       "['id,Tags',\n",
       " '\"19448711\",\"javascript,javascript-events,cross-browser,onkeyup,\"',\n",
       " '\"16042613\",\"java,\"',\n",
       " '\"17933344\",\"python,postgresql,fetchall,\"',\n",
       " '\"15837853\",\"exception,activemq,jmx,\"']"
      ]
     },
     "execution_count": 66,
     "metadata": {},
     "output_type": "execute_result"
    }
   ],
   "source": [
    "# trying to decide which structure I want to use\n",
    "text_file_comma3 = text_file2.map(lambda x: x.replace('<', '').replace('>', ','))\n",
    "text_file_comma3.take(5)\n",
    "# output is a list of strings"
   ]
  },
  {
   "cell_type": "code",
   "execution_count": null,
   "metadata": {
    "collapsed": true
   },
   "outputs": [],
   "source": []
  },
  {
   "cell_type": "code",
   "execution_count": 15,
   "metadata": {},
   "outputs": [
    {
     "data": {
      "text/plain": [
       "PythonRDD[8] at RDD at PythonRDD.scala:48"
      ]
     },
     "execution_count": 15,
     "metadata": {},
     "output_type": "execute_result"
    }
   ],
   "source": []
  },
  {
   "cell_type": "code",
   "execution_count": null,
   "metadata": {
    "collapsed": true
   },
   "outputs": [],
   "source": []
  },
  {
   "cell_type": "code",
   "execution_count": 52,
   "metadata": {},
   "outputs": [],
   "source": []
  },
  {
   "cell_type": "code",
   "execution_count": 29,
   "metadata": {},
   "outputs": [],
   "source": []
  },
  {
   "cell_type": "code",
   "execution_count": 58,
   "metadata": {},
   "outputs": [
    {
     "data": {
      "text/plain": [
       "['id,Tags', '\"20849583\",\"filter,logstash,logstash-grok,\"']"
      ]
     },
     "execution_count": 58,
     "metadata": {},
     "output_type": "execute_result"
    }
   ],
   "source": [
    "# playing around with commands\n",
    "text_file_comma3.top(2)\n",
    "text_file2.collect()  #returns up to max \"rows?\" entries "
   ]
  },
  {
   "cell_type": "code",
   "execution_count": null,
   "metadata": {
    "collapsed": true
   },
   "outputs": [],
   "source": []
  },
  {
   "cell_type": "code",
   "execution_count": null,
   "metadata": {
    "collapsed": true
   },
   "outputs": [],
   "source": []
  }
 ],
 "metadata": {
  "kernelspec": {
   "display_name": "Python 3",
   "language": "python",
   "name": "python3"
  },
  "language_info": {
   "codemirror_mode": {
    "name": "ipython",
    "version": 3
   },
   "file_extension": ".py",
   "mimetype": "text/x-python",
   "name": "python",
   "nbconvert_exporter": "python",
   "pygments_lexer": "ipython3",
   "version": "3.6.3"
  }
 },
 "nbformat": 4,
 "nbformat_minor": 2
}
